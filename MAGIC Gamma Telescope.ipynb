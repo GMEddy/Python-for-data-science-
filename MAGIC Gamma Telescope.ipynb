{
 "cells": [
  {
   "cell_type": "markdown",
   "metadata": {},
   "source": [
    "## PYTHON FOR DATA ANALYSIS"
   ]
  },
  {
   "cell_type": "code",
   "execution_count": 1,
   "metadata": {},
   "outputs": [],
   "source": [
    "#Imports de librairies\n",
    "import pandas as pd\n",
    "import numpy as np\n",
    "import sklearn\n",
    "import os\n",
    "from sklearn.model_selection import train_test_split\n",
    "from sklearn import datasets"
   ]
  },
  {
   "cell_type": "markdown",
   "metadata": {},
   "source": [
    "### Téléchargement de la base de donnée"
   ]
  },
  {
   "cell_type": "code",
   "execution_count": 2,
   "metadata": {},
   "outputs": [],
   "source": [
    "#import de data \n",
    "\n",
    "path =\"C:\\Users\\Black Mamba\\Documents\\Python Scripts\\MagicGammaTelescope.csv\"\n",
    "\n",
    "#Vérification du chemin \n",
    "assert(os.path.isfile(path))\n"
   ]
  },
  {
   "cell_type": "code",
   "execution_count": 3,
   "metadata": {},
   "outputs": [],
   "source": [
    "#Création de la dataframe\n",
    "dataf = pd.read_csv(path, index_col=0, parse_dates=True)"
   ]
  },
  {
   "cell_type": "code",
   "execution_count": 4,
   "metadata": {},
   "outputs": [
    {
     "data": {
      "text/html": [
       "<div>\n",
       "<style scoped>\n",
       "    .dataframe tbody tr th:only-of-type {\n",
       "        vertical-align: middle;\n",
       "    }\n",
       "\n",
       "    .dataframe tbody tr th {\n",
       "        vertical-align: top;\n",
       "    }\n",
       "\n",
       "    .dataframe thead th {\n",
       "        text-align: right;\n",
       "    }\n",
       "</style>\n",
       "<table border=\"1\" class=\"dataframe\">\n",
       "  <thead>\n",
       "    <tr style=\"text-align: right;\">\n",
       "      <th></th>\n",
       "      <th>fLenght</th>\n",
       "      <th>fWidth</th>\n",
       "      <th>fSize</th>\n",
       "      <th>fConc1</th>\n",
       "      <th>fAsym</th>\n",
       "      <th>fM3Long</th>\n",
       "      <th>FM3Trans</th>\n",
       "      <th>fAlpha</th>\n",
       "      <th>fDist</th>\n",
       "      <th>class</th>\n",
       "    </tr>\n",
       "  </thead>\n",
       "  <tbody>\n",
       "    <tr>\n",
       "      <th>28.7967</th>\n",
       "      <td>16.0021</td>\n",
       "      <td>2.6449</td>\n",
       "      <td>0.3918</td>\n",
       "      <td>0.1982</td>\n",
       "      <td>27.7004</td>\n",
       "      <td>22.0110</td>\n",
       "      <td>-8.2027</td>\n",
       "      <td>40.0920</td>\n",
       "      <td>81.8828</td>\n",
       "      <td>g</td>\n",
       "    </tr>\n",
       "    <tr>\n",
       "      <th>31.6036</th>\n",
       "      <td>11.7235</td>\n",
       "      <td>2.5185</td>\n",
       "      <td>0.5303</td>\n",
       "      <td>0.3773</td>\n",
       "      <td>26.2722</td>\n",
       "      <td>23.8238</td>\n",
       "      <td>-9.9574</td>\n",
       "      <td>6.3609</td>\n",
       "      <td>205.2610</td>\n",
       "      <td>g</td>\n",
       "    </tr>\n",
       "    <tr>\n",
       "      <th>162.052</th>\n",
       "      <td>136.0310</td>\n",
       "      <td>4.0612</td>\n",
       "      <td>0.0374</td>\n",
       "      <td>0.0187</td>\n",
       "      <td>116.7410</td>\n",
       "      <td>-64.8580</td>\n",
       "      <td>-45.2160</td>\n",
       "      <td>76.9600</td>\n",
       "      <td>256.7880</td>\n",
       "      <td>g</td>\n",
       "    </tr>\n",
       "    <tr>\n",
       "      <th>23.8172</th>\n",
       "      <td>9.5728</td>\n",
       "      <td>2.3385</td>\n",
       "      <td>0.6147</td>\n",
       "      <td>0.3922</td>\n",
       "      <td>27.2107</td>\n",
       "      <td>-6.4633</td>\n",
       "      <td>-7.1513</td>\n",
       "      <td>10.4490</td>\n",
       "      <td>116.7370</td>\n",
       "      <td>g</td>\n",
       "    </tr>\n",
       "    <tr>\n",
       "      <th>75.1362</th>\n",
       "      <td>30.9205</td>\n",
       "      <td>3.1611</td>\n",
       "      <td>0.3168</td>\n",
       "      <td>0.1832</td>\n",
       "      <td>-5.5277</td>\n",
       "      <td>28.5525</td>\n",
       "      <td>21.8393</td>\n",
       "      <td>4.6480</td>\n",
       "      <td>356.4620</td>\n",
       "      <td>g</td>\n",
       "    </tr>\n",
       "  </tbody>\n",
       "</table>\n",
       "</div>"
      ],
      "text/plain": [
       "          fLenght  fWidth   fSize  fConc1     fAsym  fM3Long  FM3Trans  \\\n",
       "28.7967   16.0021  2.6449  0.3918  0.1982   27.7004  22.0110   -8.2027   \n",
       "31.6036   11.7235  2.5185  0.5303  0.3773   26.2722  23.8238   -9.9574   \n",
       "162.052  136.0310  4.0612  0.0374  0.0187  116.7410 -64.8580  -45.2160   \n",
       "23.8172    9.5728  2.3385  0.6147  0.3922   27.2107  -6.4633   -7.1513   \n",
       "75.1362   30.9205  3.1611  0.3168  0.1832   -5.5277  28.5525   21.8393   \n",
       "\n",
       "          fAlpha     fDist class  \n",
       "28.7967  40.0920   81.8828     g  \n",
       "31.6036   6.3609  205.2610     g  \n",
       "162.052  76.9600  256.7880     g  \n",
       "23.8172  10.4490  116.7370     g  \n",
       "75.1362   4.6480  356.4620     g  "
      ]
     },
     "execution_count": 4,
     "metadata": {},
     "output_type": "execute_result"
    }
   ],
   "source": [
    "dataf.head()"
   ]
  },
  {
   "cell_type": "code",
   "execution_count": 5,
   "metadata": {},
   "outputs": [
    {
     "data": {
      "text/html": [
       "<div>\n",
       "<style scoped>\n",
       "    .dataframe tbody tr th:only-of-type {\n",
       "        vertical-align: middle;\n",
       "    }\n",
       "\n",
       "    .dataframe tbody tr th {\n",
       "        vertical-align: top;\n",
       "    }\n",
       "\n",
       "    .dataframe thead th {\n",
       "        text-align: right;\n",
       "    }\n",
       "</style>\n",
       "<table border=\"1\" class=\"dataframe\">\n",
       "  <thead>\n",
       "    <tr style=\"text-align: right;\">\n",
       "      <th></th>\n",
       "      <th>fLenght</th>\n",
       "      <th>fWidth</th>\n",
       "      <th>fSize</th>\n",
       "      <th>fConc1</th>\n",
       "      <th>fAsym</th>\n",
       "      <th>fM3Long</th>\n",
       "      <th>FM3Trans</th>\n",
       "      <th>fAlpha</th>\n",
       "      <th>fDist</th>\n",
       "      <th>class</th>\n",
       "    </tr>\n",
       "  </thead>\n",
       "  <tbody>\n",
       "    <tr>\n",
       "      <th>36.3781</th>\n",
       "      <td>10.3615</td>\n",
       "      <td>2.2742</td>\n",
       "      <td>0.6223</td>\n",
       "      <td>0.3537</td>\n",
       "      <td>28.2943</td>\n",
       "      <td>25.9070</td>\n",
       "      <td>7.6178</td>\n",
       "      <td>19.4337</td>\n",
       "      <td>134.407</td>\n",
       "      <td>g</td>\n",
       "    </tr>\n",
       "    <tr>\n",
       "      <th>157.672</th>\n",
       "      <td>58.5786</td>\n",
       "      <td>3.9945</td>\n",
       "      <td>0.1078</td>\n",
       "      <td>0.0561</td>\n",
       "      <td>-70.9062</td>\n",
       "      <td>-122.0640</td>\n",
       "      <td>-40.4482</td>\n",
       "      <td>26.3590</td>\n",
       "      <td>299.256</td>\n",
       "      <td>h</td>\n",
       "    </tr>\n",
       "    <tr>\n",
       "      <th>47.8913</th>\n",
       "      <td>10.0342</td>\n",
       "      <td>2.9699</td>\n",
       "      <td>0.3676</td>\n",
       "      <td>0.2213</td>\n",
       "      <td>-5.7220</td>\n",
       "      <td>30.2795</td>\n",
       "      <td>-8.3912</td>\n",
       "      <td>53.1020</td>\n",
       "      <td>102.927</td>\n",
       "      <td>h</td>\n",
       "    </tr>\n",
       "    <tr>\n",
       "      <th>37.7037</th>\n",
       "      <td>15.8391</td>\n",
       "      <td>2.7585</td>\n",
       "      <td>0.3784</td>\n",
       "      <td>0.1997</td>\n",
       "      <td>17.3708</td>\n",
       "      <td>23.4775</td>\n",
       "      <td>-10.6879</td>\n",
       "      <td>2.2764</td>\n",
       "      <td>154.653</td>\n",
       "      <td>g</td>\n",
       "    </tr>\n",
       "    <tr>\n",
       "      <th>58.9884</th>\n",
       "      <td>29.6335</td>\n",
       "      <td>2.7255</td>\n",
       "      <td>0.2653</td>\n",
       "      <td>0.1515</td>\n",
       "      <td>-54.9837</td>\n",
       "      <td>-52.5825</td>\n",
       "      <td>-13.1407</td>\n",
       "      <td>12.3224</td>\n",
       "      <td>215.724</td>\n",
       "      <td>g</td>\n",
       "    </tr>\n",
       "  </tbody>\n",
       "</table>\n",
       "</div>"
      ],
      "text/plain": [
       "         fLenght  fWidth   fSize  fConc1    fAsym   fM3Long  FM3Trans  \\\n",
       "36.3781  10.3615  2.2742  0.6223  0.3537  28.2943   25.9070    7.6178   \n",
       "157.672  58.5786  3.9945  0.1078  0.0561 -70.9062 -122.0640  -40.4482   \n",
       "47.8913  10.0342  2.9699  0.3676  0.2213  -5.7220   30.2795   -8.3912   \n",
       "37.7037  15.8391  2.7585  0.3784  0.1997  17.3708   23.4775  -10.6879   \n",
       "58.9884  29.6335  2.7255  0.2653  0.1515 -54.9837  -52.5825  -13.1407   \n",
       "\n",
       "          fAlpha    fDist class  \n",
       "36.3781  19.4337  134.407     g  \n",
       "157.672  26.3590  299.256     h  \n",
       "47.8913  53.1020  102.927     h  \n",
       "37.7037   2.2764  154.653     g  \n",
       "58.9884  12.3224  215.724     g  "
      ]
     },
     "execution_count": 5,
     "metadata": {},
     "output_type": "execute_result"
    }
   ],
   "source": [
    "#Pour des résutats non ordonné nous allons utilisé la fonction random pour melanger aléatoirement les données  \n",
    "dataf_rand=dataf.iloc[np.random.permutation(len(dataf))]\n",
    "dataf_rand.head()"
   ]
  },
  {
   "cell_type": "code",
   "execution_count": 6,
   "metadata": {},
   "outputs": [
    {
     "data": {
      "text/html": [
       "<div>\n",
       "<style scoped>\n",
       "    .dataframe tbody tr th:only-of-type {\n",
       "        vertical-align: middle;\n",
       "    }\n",
       "\n",
       "    .dataframe tbody tr th {\n",
       "        vertical-align: top;\n",
       "    }\n",
       "\n",
       "    .dataframe thead th {\n",
       "        text-align: right;\n",
       "    }\n",
       "</style>\n",
       "<table border=\"1\" class=\"dataframe\">\n",
       "  <thead>\n",
       "    <tr style=\"text-align: right;\">\n",
       "      <th></th>\n",
       "      <th>fLenght</th>\n",
       "      <th>fWidth</th>\n",
       "      <th>fSize</th>\n",
       "      <th>fConc1</th>\n",
       "      <th>fAsym</th>\n",
       "      <th>fM3Long</th>\n",
       "      <th>FM3Trans</th>\n",
       "      <th>fAlpha</th>\n",
       "      <th>fDist</th>\n",
       "      <th>class</th>\n",
       "    </tr>\n",
       "  </thead>\n",
       "  <tbody>\n",
       "    <tr>\n",
       "      <th>0</th>\n",
       "      <td>10.3615</td>\n",
       "      <td>2.2742</td>\n",
       "      <td>0.6223</td>\n",
       "      <td>0.3537</td>\n",
       "      <td>28.2943</td>\n",
       "      <td>25.9070</td>\n",
       "      <td>7.6178</td>\n",
       "      <td>19.4337</td>\n",
       "      <td>134.407</td>\n",
       "      <td>g</td>\n",
       "    </tr>\n",
       "    <tr>\n",
       "      <th>1</th>\n",
       "      <td>58.5786</td>\n",
       "      <td>3.9945</td>\n",
       "      <td>0.1078</td>\n",
       "      <td>0.0561</td>\n",
       "      <td>-70.9062</td>\n",
       "      <td>-122.0640</td>\n",
       "      <td>-40.4482</td>\n",
       "      <td>26.3590</td>\n",
       "      <td>299.256</td>\n",
       "      <td>h</td>\n",
       "    </tr>\n",
       "    <tr>\n",
       "      <th>2</th>\n",
       "      <td>10.0342</td>\n",
       "      <td>2.9699</td>\n",
       "      <td>0.3676</td>\n",
       "      <td>0.2213</td>\n",
       "      <td>-5.7220</td>\n",
       "      <td>30.2795</td>\n",
       "      <td>-8.3912</td>\n",
       "      <td>53.1020</td>\n",
       "      <td>102.927</td>\n",
       "      <td>h</td>\n",
       "    </tr>\n",
       "    <tr>\n",
       "      <th>3</th>\n",
       "      <td>15.8391</td>\n",
       "      <td>2.7585</td>\n",
       "      <td>0.3784</td>\n",
       "      <td>0.1997</td>\n",
       "      <td>17.3708</td>\n",
       "      <td>23.4775</td>\n",
       "      <td>-10.6879</td>\n",
       "      <td>2.2764</td>\n",
       "      <td>154.653</td>\n",
       "      <td>g</td>\n",
       "    </tr>\n",
       "    <tr>\n",
       "      <th>4</th>\n",
       "      <td>29.6335</td>\n",
       "      <td>2.7255</td>\n",
       "      <td>0.2653</td>\n",
       "      <td>0.1515</td>\n",
       "      <td>-54.9837</td>\n",
       "      <td>-52.5825</td>\n",
       "      <td>-13.1407</td>\n",
       "      <td>12.3224</td>\n",
       "      <td>215.724</td>\n",
       "      <td>g</td>\n",
       "    </tr>\n",
       "  </tbody>\n",
       "</table>\n",
       "</div>"
      ],
      "text/plain": [
       "   fLenght  fWidth   fSize  fConc1    fAsym   fM3Long  FM3Trans   fAlpha  \\\n",
       "0  10.3615  2.2742  0.6223  0.3537  28.2943   25.9070    7.6178  19.4337   \n",
       "1  58.5786  3.9945  0.1078  0.0561 -70.9062 -122.0640  -40.4482  26.3590   \n",
       "2  10.0342  2.9699  0.3676  0.2213  -5.7220   30.2795   -8.3912  53.1020   \n",
       "3  15.8391  2.7585  0.3784  0.1997  17.3708   23.4775  -10.6879   2.2764   \n",
       "4  29.6335  2.7255  0.2653  0.1515 -54.9837  -52.5825  -13.1407  12.3224   \n",
       "\n",
       "     fDist class  \n",
       "0  134.407     g  \n",
       "1  299.256     h  \n",
       "2  102.927     h  \n",
       "3  154.653     g  \n",
       "4  215.724     g  "
      ]
     },
     "execution_count": 6,
     "metadata": {},
     "output_type": "execute_result"
    }
   ],
   "source": [
    "#On re-strat l'index\n",
    "df=dataf_rand.reset_index(drop = True)\n",
    "df.head()"
   ]
  },
  {
   "cell_type": "markdown",
   "metadata": {},
   "source": [
    "### Data-préparation"
   ]
  },
  {
   "cell_type": "code",
   "execution_count": 7,
   "metadata": {},
   "outputs": [
    {
     "data": {
      "text/plain": [
       "fLenght     float64\n",
       "fWidth      float64\n",
       "fSize       float64\n",
       "fConc1      float64\n",
       "fAsym       float64\n",
       "fM3Long     float64\n",
       "FM3Trans    float64\n",
       "fAlpha      float64\n",
       "fDist       float64\n",
       "class        object\n",
       "dtype: object"
      ]
     },
     "execution_count": 7,
     "metadata": {},
     "output_type": "execute_result"
    }
   ],
   "source": [
    "#d'après le pdf nous savons que le type de donnée est réel \n",
    "#néanmoins nous pouvons le tester comme suit\n",
    "\n",
    "df.dtypes"
   ]
  },
  {
   "cell_type": "code",
   "execution_count": 8,
   "metadata": {},
   "outputs": [
    {
     "name": "stdout",
     "output_type": "stream",
     "text": [
      "Levels for '['g' 'h']' : class\n"
     ]
    }
   ],
   "source": [
    "#avec la colonne class (object type) \n",
    "#teste du level pour g et h\n",
    "\n",
    "for level in ['class']:\n",
    "    print(\"Levels for '{1}' : {0}\".format(level,df[level].unique()))"
   ]
  },
  {
   "cell_type": "code",
   "execution_count": 9,
   "metadata": {},
   "outputs": [],
   "source": [
    "#d'après le datacenter :\n",
    "# \"In the real data, the h class represents the majority of the events.\"\"\n",
    "#tenons compte de ces informations \n",
    "df['Class'] = df['class'].map({'g':1 , 'h' : 0})"
   ]
  },
  {
   "cell_type": "code",
   "execution_count": 10,
   "metadata": {},
   "outputs": [],
   "source": [
    "#\"g\" prendra pour valeur 1 et \"h\" prendra pour valeur 0: \n",
    "#On enregistre les étiquettes des classes que nous devons prédire\n",
    "#dans une differente variable .\n",
    "df_class = df['class'].values"
   ]
  },
  {
   "cell_type": "markdown",
   "metadata": {},
   "source": [
    "### Visualisation des données"
   ]
  },
  {
   "cell_type": "code",
   "execution_count": 11,
   "metadata": {},
   "outputs": [],
   "source": [
    "#Ratio du plus grand pixel par rapport à fSize"
   ]
  },
  {
   "cell_type": "code",
   "execution_count": 12,
   "metadata": {},
   "outputs": [],
   "source": [
    "positifconc = df.fConc1>0.1"
   ]
  },
  {
   "cell_type": "code",
   "execution_count": 13,
   "metadata": {},
   "outputs": [],
   "source": [
    "negatifconc = df.fConc1<0.1"
   ]
  },
  {
   "cell_type": "code",
   "execution_count": 14,
   "metadata": {},
   "outputs": [],
   "source": [
    "nb_negatifconc = df[negatifconc][\"fConc1\"].count()\n",
    "nb_positifconc = df[positifconc][\"fConc1\"].count()"
   ]
  },
  {
   "cell_type": "code",
   "execution_count": 15,
   "metadata": {},
   "outputs": [
    {
     "data": {
      "text/plain": [
       "(2710, 16305)"
      ]
     },
     "execution_count": 15,
     "metadata": {},
     "output_type": "execute_result"
    }
   ],
   "source": [
    "nb_negatifconc, nb_positifconc "
   ]
  },
  {
   "cell_type": "code",
   "execution_count": 16,
   "metadata": {},
   "outputs": [],
   "source": [
    "DataBase = df"
   ]
  },
  {
   "cell_type": "code",
   "execution_count": 17,
   "metadata": {},
   "outputs": [],
   "source": [
    "DataBase[\"positif\"] = positifconc"
   ]
  },
  {
   "cell_type": "code",
   "execution_count": 18,
   "metadata": {},
   "outputs": [
    {
     "data": {
      "text/html": [
       "<div>\n",
       "<style scoped>\n",
       "    .dataframe tbody tr th:only-of-type {\n",
       "        vertical-align: middle;\n",
       "    }\n",
       "\n",
       "    .dataframe tbody tr th {\n",
       "        vertical-align: top;\n",
       "    }\n",
       "\n",
       "    .dataframe thead th {\n",
       "        text-align: right;\n",
       "    }\n",
       "</style>\n",
       "<table border=\"1\" class=\"dataframe\">\n",
       "  <thead>\n",
       "    <tr style=\"text-align: right;\">\n",
       "      <th></th>\n",
       "      <th>fLenght</th>\n",
       "      <th>fWidth</th>\n",
       "      <th>fSize</th>\n",
       "      <th>fConc1</th>\n",
       "      <th>fAsym</th>\n",
       "      <th>fM3Long</th>\n",
       "      <th>FM3Trans</th>\n",
       "      <th>fAlpha</th>\n",
       "      <th>fDist</th>\n",
       "      <th>class</th>\n",
       "      <th>Class</th>\n",
       "      <th>positif</th>\n",
       "    </tr>\n",
       "  </thead>\n",
       "  <tbody>\n",
       "    <tr>\n",
       "      <th>0</th>\n",
       "      <td>10.3615</td>\n",
       "      <td>2.2742</td>\n",
       "      <td>0.6223</td>\n",
       "      <td>0.3537</td>\n",
       "      <td>28.2943</td>\n",
       "      <td>25.9070</td>\n",
       "      <td>7.6178</td>\n",
       "      <td>19.4337</td>\n",
       "      <td>134.407</td>\n",
       "      <td>g</td>\n",
       "      <td>1</td>\n",
       "      <td>True</td>\n",
       "    </tr>\n",
       "    <tr>\n",
       "      <th>1</th>\n",
       "      <td>58.5786</td>\n",
       "      <td>3.9945</td>\n",
       "      <td>0.1078</td>\n",
       "      <td>0.0561</td>\n",
       "      <td>-70.9062</td>\n",
       "      <td>-122.0640</td>\n",
       "      <td>-40.4482</td>\n",
       "      <td>26.3590</td>\n",
       "      <td>299.256</td>\n",
       "      <td>h</td>\n",
       "      <td>0</td>\n",
       "      <td>False</td>\n",
       "    </tr>\n",
       "    <tr>\n",
       "      <th>2</th>\n",
       "      <td>10.0342</td>\n",
       "      <td>2.9699</td>\n",
       "      <td>0.3676</td>\n",
       "      <td>0.2213</td>\n",
       "      <td>-5.7220</td>\n",
       "      <td>30.2795</td>\n",
       "      <td>-8.3912</td>\n",
       "      <td>53.1020</td>\n",
       "      <td>102.927</td>\n",
       "      <td>h</td>\n",
       "      <td>0</td>\n",
       "      <td>True</td>\n",
       "    </tr>\n",
       "    <tr>\n",
       "      <th>3</th>\n",
       "      <td>15.8391</td>\n",
       "      <td>2.7585</td>\n",
       "      <td>0.3784</td>\n",
       "      <td>0.1997</td>\n",
       "      <td>17.3708</td>\n",
       "      <td>23.4775</td>\n",
       "      <td>-10.6879</td>\n",
       "      <td>2.2764</td>\n",
       "      <td>154.653</td>\n",
       "      <td>g</td>\n",
       "      <td>1</td>\n",
       "      <td>True</td>\n",
       "    </tr>\n",
       "    <tr>\n",
       "      <th>4</th>\n",
       "      <td>29.6335</td>\n",
       "      <td>2.7255</td>\n",
       "      <td>0.2653</td>\n",
       "      <td>0.1515</td>\n",
       "      <td>-54.9837</td>\n",
       "      <td>-52.5825</td>\n",
       "      <td>-13.1407</td>\n",
       "      <td>12.3224</td>\n",
       "      <td>215.724</td>\n",
       "      <td>g</td>\n",
       "      <td>1</td>\n",
       "      <td>True</td>\n",
       "    </tr>\n",
       "  </tbody>\n",
       "</table>\n",
       "</div>"
      ],
      "text/plain": [
       "   fLenght  fWidth   fSize  fConc1    fAsym   fM3Long  FM3Trans   fAlpha  \\\n",
       "0  10.3615  2.2742  0.6223  0.3537  28.2943   25.9070    7.6178  19.4337   \n",
       "1  58.5786  3.9945  0.1078  0.0561 -70.9062 -122.0640  -40.4482  26.3590   \n",
       "2  10.0342  2.9699  0.3676  0.2213  -5.7220   30.2795   -8.3912  53.1020   \n",
       "3  15.8391  2.7585  0.3784  0.1997  17.3708   23.4775  -10.6879   2.2764   \n",
       "4  29.6335  2.7255  0.2653  0.1515 -54.9837  -52.5825  -13.1407  12.3224   \n",
       "\n",
       "     fDist class  Class  positif  \n",
       "0  134.407     g      1     True  \n",
       "1  299.256     h      0    False  \n",
       "2  102.927     h      0     True  \n",
       "3  154.653     g      1     True  \n",
       "4  215.724     g      1     True  "
      ]
     },
     "execution_count": 18,
     "metadata": {},
     "output_type": "execute_result"
    }
   ],
   "source": [
    "DataBase.head()"
   ]
  },
  {
   "cell_type": "code",
   "execution_count": 19,
   "metadata": {},
   "outputs": [
    {
     "data": {
      "text/plain": [
       "<matplotlib.axes._subplots.AxesSubplot at 0xc6958d0>"
      ]
     },
     "execution_count": 19,
     "metadata": {},
     "output_type": "execute_result"
    },
    {
     "data": {
      "image/png": "[encoded data removed]",
      "text/plain": [
       "<Figure size 432x288 with 1 Axes>"
      ]
     },
     "metadata": {
      "needs_background": "light"
     },
     "output_type": "display_data"
    }
   ],
   "source": [
    "%matplotlib inline\n",
    "DataBase.groupby([\"positif\"])[\"fConc1\"].mean().plot.bar(title=\"moyen\")"
   ]
  },
  {
   "cell_type": "markdown",
   "metadata": {},
   "source": [
    "### Modélisation"
   ]
  },
  {
   "cell_type": "code",
   "execution_count": 20,
   "metadata": {},
   "outputs": [],
   "source": [
    "#importation des librarie pour éffectuer la modelisation\n",
    "import matplotlib.pyplot as plt\n",
    "import pandas as pd\n",
    "from sklearn.model_selection import train_test_split\n",
    "from sklearn.ensemble        import RandomForestClassifier\n",
    "from sklearn.tree import DecisionTreeClassifier\n",
    "from sklearn.preprocessing import StandardScaler\n",
    "from sklearn.model_selection import train_test_split"
   ]
  },
  {
   "cell_type": "code",
   "execution_count": 21,
   "metadata": {},
   "outputs": [
    {
     "data": {
      "text/plain": [
       "(19020, 13)"
      ]
     },
     "execution_count": 21,
     "metadata": {},
     "output_type": "execute_result"
    }
   ],
   "source": [
    "#verification des données \n",
    "df = pd.get_dummies(df)\n",
    "df.shape"
   ]
  },
  {
   "cell_type": "code",
   "execution_count": 22,
   "metadata": {},
   "outputs": [],
   "source": [
    "#X = dataset.data\n",
    "#y = dataset.target\n",
    "X = df[df.columns[:1]]\n",
    "y = df[df.columns[-1]]"
   ]
  },
  {
   "cell_type": "code",
   "execution_count": 23,
   "metadata": {},
   "outputs": [],
   "source": [
    "X_train, X_test, y_train, y_test = train_test_split(X, y) "
   ]
  },
  {
   "cell_type": "markdown",
   "metadata": {},
   "source": [
    "#### Algorithme modele"
   ]
  },
  {
   "cell_type": "code",
   "execution_count": 24,
   "metadata": {},
   "outputs": [
    {
     "data": {
      "text/plain": [
       "0.7139852786540484"
      ]
     },
     "execution_count": 24,
     "metadata": {},
     "output_type": "execute_result"
    }
   ],
   "source": [
    "from sklearn.metrics import accuracy_score\n",
    "\n",
    "#le modele\n",
    "algo   = RandomForestClassifier(random_state = 42,\n",
    "                    n_jobs = -1,\n",
    "                    n_estimators=16,\n",
    "                    criterion='entropy',\n",
    "                    max_depth=16\n",
    "                    )\n",
    "#Le fit pour x_train et y_train\n",
    "modele = algo.fit(X_train, y_train)\n",
    "\n",
    "# La prédiction\n",
    "y_pred = algo.predict(X_test)\n",
    "\n",
    "#Le resultat\n",
    "accuracy_score(y_test, y_pred)"
   ]
  },
  {
   "cell_type": "markdown",
   "metadata": {},
   "source": [
    "### Optimisation des hyperparamètres"
   ]
  },
  {
   "cell_type": "code",
   "execution_count": 25,
   "metadata": {},
   "outputs": [
    {
     "name": "stdout",
     "output_type": "stream",
     "text": [
      "0.94776119403 0.969696969697\n"
     ]
    }
   ],
   "source": [
    "from sklearn import grid_search\n",
    "parameters = {  'gamma' : [0.01, 0.1, 0.5]           ,\n",
    "                 \"probability\" : [True]}\n",
    "grid       = grid_search.GridSearchCV(algorithme, parameters, n_jobs=-1)\n",
    "grid.fit(X_train, y_train)\n",
    "print grid.best_score_, grid.best_estimator_.score(X_test, y_test)"
   ]
  },
  {
   "cell_type": "markdown",
   "metadata": {},
   "source": [
    "### Visualisation des performances"
   ]
  },
  {
   "cell_type": "code",
   "execution_count": 26,
   "metadata": {},
   "outputs": [
    {
     "name": "stdout",
     "output_type": "stream",
     "text": [
      "For model KNN accuracy = 0.7091482649842271\n"
     ]
    },
    {
     "data": {
      "image/png": "[encoded data removed]",
      "text/plain": [
       "<Figure size 576x576 with 1 Axes>"
      ]
     },
     "metadata": {
      "needs_background": "light"
     },
     "output_type": "display_data"
    },
    {
     "name": "stdout",
     "output_type": "stream",
     "text": [
      "For model NB accuracy = 0.7053627760252366\n"
     ]
    },
    {
     "data": {
      "image/png": "[encoded data removed]",
      "text/plain": [
       "<Figure size 432x288 with 1 Axes>"
      ]
     },
     "metadata": {
      "needs_background": "light"
     },
     "output_type": "display_data"
    },
    {
     "name": "stdout",
     "output_type": "stream",
     "text": [
      "For model RF50 accuracy = 0.6363827549947424\n"
     ]
    },
    {
     "data": {
      "image/png": "[encoded data removed]",
      "text/plain": [
       "<Figure size 432x288 with 1 Axes>"
      ]
     },
     "metadata": {
      "needs_background": "light"
     },
     "output_type": "display_data"
    },
    {
     "name": "stdout",
     "output_type": "stream",
     "text": [
      "For model AdaBoost accuracy = 0.7295478443743428\n"
     ]
    },
    {
     "data": {
      "image/png": "[encoded data removed]",
      "text/plain": [
       "<Figure size 432x288 with 1 Axes>"
      ]
     },
     "metadata": {
      "needs_background": "light"
     },
     "output_type": "display_data"
    },
    {
     "name": "stdout",
     "output_type": "stream",
     "text": [
      "For model RF5 accuracy = 0.6363827549947424\n"
     ]
    },
    {
     "data": {
      "image/png": "[encoded data removed]",
      "text/plain": [
       "<Figure size 432x288 with 1 Axes>"
      ]
     },
     "metadata": {
      "needs_background": "light"
     },
     "output_type": "display_data"
    }
   ],
   "source": [
    "from sklearn.preprocessing import StandardScaler\n",
    "from sklearn.neighbors import KNeighborsClassifier\n",
    "from sklearn.naive_bayes import GaussianNB\n",
    "from sklearn.ensemble import RandomForestClassifier,AdaBoostClassifier\n",
    "from sklearn.metrics import roc_curve, auc,fbeta_score, make_scorer,roc_auc_score\n",
    "from sklearn.ensemble import RandomForestClassifier\n",
    "from sklearn.datasets import make_classification\n",
    "from sklearn import svm, datasets\n",
    "from sklearn.metrics import roc_auc_score\n",
    "\n",
    "#Utilisation du classifier \n",
    "#Import des librarie\n",
    "\n",
    "classifiers = {'KNN': KNeighborsClassifier(n_neighbors=11),\n",
    "               'NB': GaussianNB(),\n",
    "               'RF5': RandomForestClassifier(n_estimators=5),\n",
    "               'RF50': RandomForestClassifier(n_estimators=50),\n",
    "               'AdaBoost': AdaBoostClassifier(),\n",
    "               }\n",
    "\n",
    "#taille du schéma\n",
    "plt.figure(figsize=(8,8))\n",
    "\n",
    "#classifier methode\n",
    "#score teste X_test et y_test via y_pred\n",
    "n_classifiers = len(classifiers)\n",
    "for index, (name, clf) in enumerate(classifiers.iteritems()):\n",
    "    clf.fit(X_train, y_train)\n",
    "    y_pred = clf.predict_proba(X_test)\n",
    "    fpr, tpr, thresholds = roc_curve(y_test, y_pred[:, 1])\n",
    "    roc_auc = auc(fpr, tpr)\n",
    "    print 'For model', name, 'accuracy =', clf.score(X_test, y_test)\n",
    "\n",
    "\n",
    "#Mise en place des paramettre d'affichage , insertion du roc     \n",
    "    plt.plot(fpr, tpr, label='%s (area = %0.2f)' % (name, roc_auc))\n",
    "    plt.plot([0, 1], [0, 1], 'k--')\n",
    "    plt.xlim([0.0, 1.0])\n",
    "    plt.ylim([0.0, 1.0])\n",
    "    plt.xlabel('False Positive Rate')\n",
    "    plt.ylabel('True Positive Rate')\n",
    "    plt.title('ROC Curve')\n",
    "    plt.legend(loc=\"lower right\")\n",
    "    plt.show()\n"
   ]
  },
  {
   "cell_type": "code",
   "execution_count": null,
   "metadata": {},
   "outputs": [],
   "source": []
  }
 ],
 "metadata": {
  "kernelspec": {
   "display_name": "Python 2",
   "language": "python",
   "name": "python2"
  },
  "language_info": {
   "codemirror_mode": {
    "name": "ipython",
    "version": 2
   },
   "file_extension": ".py",
   "mimetype": "text/x-python",
   "name": "python",
   "nbconvert_exporter": "python",
   "pygments_lexer": "ipython2",
   "version": "2.7.15"
  }
 },
 "nbformat": 4,
 "nbformat_minor": 2
}
