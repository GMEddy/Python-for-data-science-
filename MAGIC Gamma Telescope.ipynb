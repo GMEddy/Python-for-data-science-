{
 "cells": [
  {
   "cell_type": "markdown",
   "metadata": {},
   "source": [
    "## PYTHON FOR DATA ANALYSIS"
   ]
  },
  {
   "cell_type": "code",
   "execution_count": 87,
   "metadata": {},
   "outputs": [],
   "source": [
    "#Imports de librairies\n",
    "import pandas as pd\n",
    "import numpy as np\n",
    "import sklearn\n",
    "import os\n",
    "from sklearn.model_selection import train_test_split\n",
    "from sklearn import datasets"
   ]
  },
  {
   "cell_type": "markdown",
   "metadata": {},
   "source": [
    "### Téléchargement de la base de donnée"
   ]
  },
  {
   "cell_type": "code",
   "execution_count": 88,
   "metadata": {},
   "outputs": [],
   "source": [
    "#import de data \n",
    "\n",
    "path =\"C:\\Users\\Black Mamba\\Documents\\Python Scripts\\MagicGammaTelescope.csv\"\n",
    "\n",
    "#Vérification du chemin \n",
    "assert(os.path.isfile(path))\n"
   ]
  },
  {
   "cell_type": "code",
   "execution_count": 89,
   "metadata": {},
   "outputs": [],
   "source": [
    "#Création de la dataframe\n",
    "dataf = pd.read_csv(path, index_col=0, parse_dates=True)"
   ]
  },
  {
   "cell_type": "code",
   "execution_count": 90,
   "metadata": {},
   "outputs": [
    {
     "data": {
      "text/html": [
       "<div>\n",
       "<style scoped>\n",
       "    .dataframe tbody tr th:only-of-type {\n",
       "        vertical-align: middle;\n",
       "    }\n",
       "\n",
       "    .dataframe tbody tr th {\n",
       "        vertical-align: top;\n",
       "    }\n",
       "\n",
       "    .dataframe thead th {\n",
       "        text-align: right;\n",
       "    }\n",
       "</style>\n",
       "<table border=\"1\" class=\"dataframe\">\n",
       "  <thead>\n",
       "    <tr style=\"text-align: right;\">\n",
       "      <th></th>\n",
       "      <th>fLenght</th>\n",
       "      <th>fWidth</th>\n",
       "      <th>fSize</th>\n",
       "      <th>fConc1</th>\n",
       "      <th>fAsym</th>\n",
       "      <th>fM3Long</th>\n",
       "      <th>FM3Trans</th>\n",
       "      <th>fAlpha</th>\n",
       "      <th>fDist</th>\n",
       "      <th>class</th>\n",
       "    </tr>\n",
       "  </thead>\n",
       "  <tbody>\n",
       "    <tr>\n",
       "      <th>28.7967</th>\n",
       "      <td>16.0021</td>\n",
       "      <td>2.6449</td>\n",
       "      <td>0.3918</td>\n",
       "      <td>0.1982</td>\n",
       "      <td>27.7004</td>\n",
       "      <td>22.0110</td>\n",
       "      <td>-8.2027</td>\n",
       "      <td>40.0920</td>\n",
       "      <td>81.8828</td>\n",
       "      <td>g</td>\n",
       "    </tr>\n",
       "    <tr>\n",
       "      <th>31.6036</th>\n",
       "      <td>11.7235</td>\n",
       "      <td>2.5185</td>\n",
       "      <td>0.5303</td>\n",
       "      <td>0.3773</td>\n",
       "      <td>26.2722</td>\n",
       "      <td>23.8238</td>\n",
       "      <td>-9.9574</td>\n",
       "      <td>6.3609</td>\n",
       "      <td>205.2610</td>\n",
       "      <td>g</td>\n",
       "    </tr>\n",
       "    <tr>\n",
       "      <th>162.052</th>\n",
       "      <td>136.0310</td>\n",
       "      <td>4.0612</td>\n",
       "      <td>0.0374</td>\n",
       "      <td>0.0187</td>\n",
       "      <td>116.7410</td>\n",
       "      <td>-64.8580</td>\n",
       "      <td>-45.2160</td>\n",
       "      <td>76.9600</td>\n",
       "      <td>256.7880</td>\n",
       "      <td>g</td>\n",
       "    </tr>\n",
       "    <tr>\n",
       "      <th>23.8172</th>\n",
       "      <td>9.5728</td>\n",
       "      <td>2.3385</td>\n",
       "      <td>0.6147</td>\n",
       "      <td>0.3922</td>\n",
       "      <td>27.2107</td>\n",
       "      <td>-6.4633</td>\n",
       "      <td>-7.1513</td>\n",
       "      <td>10.4490</td>\n",
       "      <td>116.7370</td>\n",
       "      <td>g</td>\n",
       "    </tr>\n",
       "    <tr>\n",
       "      <th>75.1362</th>\n",
       "      <td>30.9205</td>\n",
       "      <td>3.1611</td>\n",
       "      <td>0.3168</td>\n",
       "      <td>0.1832</td>\n",
       "      <td>-5.5277</td>\n",
       "      <td>28.5525</td>\n",
       "      <td>21.8393</td>\n",
       "      <td>4.6480</td>\n",
       "      <td>356.4620</td>\n",
       "      <td>g</td>\n",
       "    </tr>\n",
       "  </tbody>\n",
       "</table>\n",
       "</div>"
      ],
      "text/plain": [
       "          fLenght  fWidth   fSize  fConc1     fAsym  fM3Long  FM3Trans  \\\n",
       "28.7967   16.0021  2.6449  0.3918  0.1982   27.7004  22.0110   -8.2027   \n",
       "31.6036   11.7235  2.5185  0.5303  0.3773   26.2722  23.8238   -9.9574   \n",
       "162.052  136.0310  4.0612  0.0374  0.0187  116.7410 -64.8580  -45.2160   \n",
       "23.8172    9.5728  2.3385  0.6147  0.3922   27.2107  -6.4633   -7.1513   \n",
       "75.1362   30.9205  3.1611  0.3168  0.1832   -5.5277  28.5525   21.8393   \n",
       "\n",
       "          fAlpha     fDist class  \n",
       "28.7967  40.0920   81.8828     g  \n",
       "31.6036   6.3609  205.2610     g  \n",
       "162.052  76.9600  256.7880     g  \n",
       "23.8172  10.4490  116.7370     g  \n",
       "75.1362   4.6480  356.4620     g  "
      ]
     },
     "execution_count": 90,
     "metadata": {},
     "output_type": "execute_result"
    }
   ],
   "source": [
    "dataf.head()"
   ]
  },
  {
   "cell_type": "code",
   "execution_count": 91,
   "metadata": {},
   "outputs": [
    {
     "data": {
      "text/html": [
       "<div>\n",
       "<style scoped>\n",
       "    .dataframe tbody tr th:only-of-type {\n",
       "        vertical-align: middle;\n",
       "    }\n",
       "\n",
       "    .dataframe tbody tr th {\n",
       "        vertical-align: top;\n",
       "    }\n",
       "\n",
       "    .dataframe thead th {\n",
       "        text-align: right;\n",
       "    }\n",
       "</style>\n",
       "<table border=\"1\" class=\"dataframe\">\n",
       "  <thead>\n",
       "    <tr style=\"text-align: right;\">\n",
       "      <th></th>\n",
       "      <th>fLenght</th>\n",
       "      <th>fWidth</th>\n",
       "      <th>fSize</th>\n",
       "      <th>fConc1</th>\n",
       "      <th>fAsym</th>\n",
       "      <th>fM3Long</th>\n",
       "      <th>FM3Trans</th>\n",
       "      <th>fAlpha</th>\n",
       "      <th>fDist</th>\n",
       "      <th>class</th>\n",
       "    </tr>\n",
       "  </thead>\n",
       "  <tbody>\n",
       "    <tr>\n",
       "      <th>42.5896</th>\n",
       "      <td>27.5117</td>\n",
       "      <td>3.3595</td>\n",
       "      <td>0.2287</td>\n",
       "      <td>0.1199</td>\n",
       "      <td>-22.1561</td>\n",
       "      <td>47.4757</td>\n",
       "      <td>-17.2455</td>\n",
       "      <td>41.5633</td>\n",
       "      <td>237.3838</td>\n",
       "      <td>h</td>\n",
       "    </tr>\n",
       "    <tr>\n",
       "      <th>45.7794</th>\n",
       "      <td>16.0074</td>\n",
       "      <td>2.9761</td>\n",
       "      <td>0.2779</td>\n",
       "      <td>0.1421</td>\n",
       "      <td>-13.6447</td>\n",
       "      <td>-26.4445</td>\n",
       "      <td>-9.6365</td>\n",
       "      <td>0.6344</td>\n",
       "      <td>242.5300</td>\n",
       "      <td>g</td>\n",
       "    </tr>\n",
       "    <tr>\n",
       "      <th>28.212</th>\n",
       "      <td>16.2969</td>\n",
       "      <td>2.5705</td>\n",
       "      <td>0.3199</td>\n",
       "      <td>0.1626</td>\n",
       "      <td>0.3502</td>\n",
       "      <td>-20.8862</td>\n",
       "      <td>13.1331</td>\n",
       "      <td>10.7703</td>\n",
       "      <td>255.2640</td>\n",
       "      <td>g</td>\n",
       "    </tr>\n",
       "    <tr>\n",
       "      <th>23.0347</th>\n",
       "      <td>12.2928</td>\n",
       "      <td>2.3883</td>\n",
       "      <td>0.6094</td>\n",
       "      <td>0.4151</td>\n",
       "      <td>13.5323</td>\n",
       "      <td>18.1708</td>\n",
       "      <td>10.1494</td>\n",
       "      <td>89.1927</td>\n",
       "      <td>161.4280</td>\n",
       "      <td>g</td>\n",
       "    </tr>\n",
       "    <tr>\n",
       "      <th>70.3382</th>\n",
       "      <td>46.8813</td>\n",
       "      <td>3.1054</td>\n",
       "      <td>0.2021</td>\n",
       "      <td>0.1317</td>\n",
       "      <td>-34.5090</td>\n",
       "      <td>-78.5341</td>\n",
       "      <td>-34.8005</td>\n",
       "      <td>49.9159</td>\n",
       "      <td>231.6019</td>\n",
       "      <td>h</td>\n",
       "    </tr>\n",
       "  </tbody>\n",
       "</table>\n",
       "</div>"
      ],
      "text/plain": [
       "         fLenght  fWidth   fSize  fConc1    fAsym  fM3Long  FM3Trans   fAlpha  \\\n",
       "42.5896  27.5117  3.3595  0.2287  0.1199 -22.1561  47.4757  -17.2455  41.5633   \n",
       "45.7794  16.0074  2.9761  0.2779  0.1421 -13.6447 -26.4445   -9.6365   0.6344   \n",
       "28.212   16.2969  2.5705  0.3199  0.1626   0.3502 -20.8862   13.1331  10.7703   \n",
       "23.0347  12.2928  2.3883  0.6094  0.4151  13.5323  18.1708   10.1494  89.1927   \n",
       "70.3382  46.8813  3.1054  0.2021  0.1317 -34.5090 -78.5341  -34.8005  49.9159   \n",
       "\n",
       "            fDist class  \n",
       "42.5896  237.3838     h  \n",
       "45.7794  242.5300     g  \n",
       "28.212   255.2640     g  \n",
       "23.0347  161.4280     g  \n",
       "70.3382  231.6019     h  "
      ]
     },
     "execution_count": 91,
     "metadata": {},
     "output_type": "execute_result"
    }
   ],
   "source": [
    "#Pour des résutats non ordonné nous allons utilisé la fonction random pour melanger aléatoirement les données  \n",
    "dataf_rand=dataf.iloc[np.random.permutation(len(dataf))]\n",
    "dataf_rand.head()"
   ]
  },
  {
   "cell_type": "code",
   "execution_count": 92,
   "metadata": {},
   "outputs": [
    {
     "data": {
      "text/plain": [
       "<bound method DataFrame.head of         fLenght  fWidth   fSize  fConc1     fAsym   fM3Long  FM3Trans  \\\n",
       "0       27.5117  3.3595  0.2287  0.1199  -22.1561   47.4757  -17.2455   \n",
       "1       16.0074  2.9761  0.2779  0.1421  -13.6447  -26.4445   -9.6365   \n",
       "2       16.2969  2.5705  0.3199  0.1626    0.3502  -20.8862   13.1331   \n",
       "3       12.2928  2.3883  0.6094  0.4151   13.5323   18.1708   10.1494   \n",
       "4       46.8813  3.1054  0.2021  0.1317  -34.5090  -78.5341  -34.8005   \n",
       "5       16.4912  2.4133  0.4788  0.3185   18.6452   17.5771   -6.8352   \n",
       "6       20.8588  2.8149  0.3369  0.1968   26.5421   26.9431   14.3703   \n",
       "7       11.7899  2.2492  0.7099  0.3577  -15.1386    4.4607   11.4721   \n",
       "8       21.0441  3.2918  0.1808  0.0922   19.7735   22.8269    6.0561   \n",
       "9       17.5606  2.5192  0.3661  0.2012    4.9367  -22.6928   14.3344   \n",
       "10      11.8873  2.4631  0.5508  0.3391   26.0955   10.6926   -7.5324   \n",
       "11      27.7732  3.2853  0.3118  0.1852  -79.2715 -102.7032  -19.8884   \n",
       "12      18.1279  2.9917  0.2345  0.1177   19.6222   46.8981  -10.5913   \n",
       "13      35.0826  3.0283  0.2189  0.1304 -107.9506 -165.5549  -20.6043   \n",
       "14      57.3551  3.5334  0.1107  0.0572 -173.4610  -93.0602  -54.5030   \n",
       "15      10.7490  2.1644  0.5205  0.2637    0.7222   -6.0334    2.9306   \n",
       "16       9.5415  2.7431  0.3216  0.1482  -10.2511   10.9714   -7.1032   \n",
       "17     117.4295  4.4334  0.0723  0.0020 -105.4020 -216.3797  -71.9831   \n",
       "18      21.4643  3.0953  0.2128  0.1240  -40.8964   70.6312  -16.6665   \n",
       "19      11.2873  2.3493  0.4832  0.2886  -25.6308  -24.3017   -8.2233   \n",
       "20       7.1835  2.4713  0.7230  0.4341   16.0537   19.1735   -8.0257   \n",
       "21      16.7964  2.6642  0.3402  0.1701    3.6149  -18.2080    9.8634   \n",
       "22      10.1237  2.5035  0.6423  0.3626  -16.7367  -13.6145   -1.2909   \n",
       "23      41.3571  3.5961  0.2033  0.1114   29.7285  -43.3006  -34.2388   \n",
       "24     108.3136  3.3591  0.1069  0.0539 -177.7154 -135.9046  104.9312   \n",
       "25     136.7230  3.4852  0.1325  0.0731 -216.5500 -168.7070  127.6850   \n",
       "26      11.8911  2.0626  0.7013  0.3506   14.9995    0.6593   11.3935   \n",
       "27      23.4032  3.1793  0.2224  0.1519 -145.6240  -74.4461   20.6240   \n",
       "28      70.7294  3.4018  0.0846  0.0653  -92.2808  -89.1685  -37.2759   \n",
       "29      11.4504  2.6609  0.5721  0.3439   12.9142   25.8025   -7.7300   \n",
       "...         ...     ...     ...     ...       ...       ...       ...   \n",
       "18990   39.0091  3.9111  0.1333  0.0668  -82.1235   69.4124  -16.9571   \n",
       "18991   19.4895  2.9914  0.3600  0.2198    9.6150   15.3030    7.9559   \n",
       "18992   16.6665  2.7771  0.2790  0.1495   46.3620  -25.7537   13.3908   \n",
       "18993   12.6570  2.5617  0.5487  0.2840   -5.0417  -12.5653   -6.1822   \n",
       "18994   20.2238  3.2560  0.2213  0.1129   16.4514   48.3009  -11.8005   \n",
       "18995   19.7686  2.9617  0.3069  0.1851    4.2098   37.7854   17.5866   \n",
       "18996   17.6425  2.6258  0.3645  0.1905   -5.8108  -32.7277    6.8460   \n",
       "18997   16.7617  2.5172  0.4438  0.2295    5.6604  -10.0808   11.5903   \n",
       "18998   16.0355  2.5072  0.3733  0.1975  -21.0141  -11.8603   11.8430   \n",
       "18999    9.4129  2.7336  0.4044  0.2151   32.9133   20.8016    7.7568   \n",
       "19000   11.0840  2.3597  0.5219  0.2746  -31.5973  -27.4753   11.1304   \n",
       "19001   21.0421  3.0630  0.2587  0.1691  -55.6072   61.5012  -12.2948   \n",
       "19002   10.2680  2.2529  0.5866  0.3101  -23.5251   -9.7051   -4.9073   \n",
       "19003   16.6652  2.3617  0.6174  0.3239 -103.4230 -122.1730   -7.5258   \n",
       "19004   23.8385  2.8624  0.3075  0.1750    4.2646   19.6185   19.1193   \n",
       "19005   12.7999  2.7063  0.2852  0.1485   16.7325   36.1069  -11.2957   \n",
       "19006   10.3802  2.4040  0.5089  0.2978    3.7736   22.7713    7.1500   \n",
       "19007   16.0420  2.8567  0.3032  0.1690  -90.5016   52.5605   11.8929   \n",
       "19008   92.8384  4.0558  0.0979  0.0527 -173.8000  -78.1944   65.9667   \n",
       "19009   11.3399  2.1287  0.7212  0.4275   14.8550   -8.4364   -6.8675   \n",
       "19010   16.0630  3.0851  0.3091  0.1722   11.6794   37.1490    8.3653   \n",
       "19011   24.3085  3.3792  0.1904  0.0979    9.4571   55.7010   -6.3050   \n",
       "19012   15.4927  2.6031  0.4214  0.2756   34.8654   31.8528   13.7698   \n",
       "19013   34.5562  3.0978  0.2328  0.1445   16.8769   50.7718   23.8988   \n",
       "19014   72.6158  3.4079  0.1572  0.0827 -209.3050 -102.7690  -67.4008   \n",
       "19015   11.6365  2.2648  0.6304  0.3995   -1.2639    3.0816    7.8491   \n",
       "19016   25.8976  3.4580  0.1588  0.0820   47.3652   70.4872  -11.0481   \n",
       "19017   11.1805  2.1351  0.7546  0.3773   14.9999    0.4644  -11.8252   \n",
       "19018    0.0046  2.1319  0.7675  0.3875   25.3507   15.0322    0.0000   \n",
       "19019   10.4188  2.4370  0.7861  0.4954   13.0041    5.8187  -10.2744   \n",
       "\n",
       "        fAlpha     fDist class  \n",
       "0      41.5633  237.3838     h  \n",
       "1       0.6344  242.5300     g  \n",
       "2      10.7703  255.2640     g  \n",
       "3      89.1927  161.4280     g  \n",
       "4      49.9159  231.6019     h  \n",
       "5      39.4720   43.9697     g  \n",
       "6      30.1290   74.0943     g  \n",
       "7      67.6997  213.9180     g  \n",
       "8      49.1930   95.8671     h  \n",
       "9      22.5206  209.3740     g  \n",
       "10     25.9290  183.8430     g  \n",
       "11     19.7812  297.1553     h  \n",
       "12      6.9550  203.0720     g  \n",
       "13      9.4043  249.3844     h  \n",
       "14     75.7876  243.9010     h  \n",
       "15     20.7070   84.1078     g  \n",
       "16     74.2888  130.4464     h  \n",
       "17     45.0938  289.0512     h  \n",
       "18      1.4940  300.2600     g  \n",
       "19     25.4210  117.6460     g  \n",
       "20     79.7780  224.3410     h  \n",
       "21      2.4949  213.1690     g  \n",
       "22     89.3488  189.4625     h  \n",
       "23      2.8160  370.9710     g  \n",
       "24     44.1299  222.2196     h  \n",
       "25     21.5550  121.9570     h  \n",
       "26     34.1556  217.5290     g  \n",
       "27     36.5900  214.9470     h  \n",
       "28     14.5686  306.0326     h  \n",
       "29     18.3364  203.3120     h  \n",
       "...        ...       ...   ...  \n",
       "18990   0.6750  339.2700     g  \n",
       "18991  20.4870   91.0575     g  \n",
       "18992   4.5840  243.2900     g  \n",
       "18993  70.0660  253.6430     h  \n",
       "18994   0.8763  262.0160     g  \n",
       "18995   5.3130  186.2290     g  \n",
       "18996  77.9610  128.6760     g  \n",
       "18997  24.6315  165.3530     g  \n",
       "18998   3.9228   98.0092     g  \n",
       "18999  31.5280  160.5420     h  \n",
       "19000   2.0718  116.1105     h  \n",
       "19001   4.4570  305.8470     g  \n",
       "19002  71.5590   93.2711     h  \n",
       "19003   6.6730  340.7670     g  \n",
       "19004  88.6604  173.3720     h  \n",
       "19005   9.0880  175.6370     g  \n",
       "19006  34.5180  141.2210     g  \n",
       "19007   0.5325  271.0860     g  \n",
       "19008  51.7033  367.5750     h  \n",
       "19009  41.4708  169.0160     g  \n",
       "19010   4.8710  222.0260     g  \n",
       "19011   7.6011  215.8210     g  \n",
       "19012  22.7129   87.4655     g  \n",
       "19013  33.2229  231.8664     h  \n",
       "19014  60.9866  221.0300     h  \n",
       "19015  31.9616  278.3490     g  \n",
       "19016   7.3272  178.6890     g  \n",
       "19017  35.0960  146.6610     g  \n",
       "19018  61.5621  147.7300     g  \n",
       "19019  17.9010  195.4660     h  \n",
       "\n",
       "[19020 rows x 10 columns]>"
      ]
     },
     "execution_count": 92,
     "metadata": {},
     "output_type": "execute_result"
    }
   ],
   "source": [
    "#On re-strat l'index\n",
    "df=dataf_rand.reset_index(drop = True)\n",
    "df.head"
   ]
  },
  {
   "cell_type": "markdown",
   "metadata": {},
   "source": [
    "### Data-préparation"
   ]
  },
  {
   "cell_type": "code",
   "execution_count": 93,
   "metadata": {},
   "outputs": [
    {
     "data": {
      "text/plain": [
       "fLenght     float64\n",
       "fWidth      float64\n",
       "fSize       float64\n",
       "fConc1      float64\n",
       "fAsym       float64\n",
       "fM3Long     float64\n",
       "FM3Trans    float64\n",
       "fAlpha      float64\n",
       "fDist       float64\n",
       "class        object\n",
       "dtype: object"
      ]
     },
     "execution_count": 93,
     "metadata": {},
     "output_type": "execute_result"
    }
   ],
   "source": [
    "#d'après le pdf nous savons que le type de donnée est réel \n",
    "#néanmoins nous pouvons le tester comme suit\n",
    "\n",
    "df.dtypes"
   ]
  },
  {
   "cell_type": "code",
   "execution_count": 94,
   "metadata": {},
   "outputs": [
    {
     "name": "stdout",
     "output_type": "stream",
     "text": [
      "Levels for '['h' 'g']' : class\n"
     ]
    }
   ],
   "source": [
    "#avec la colonne class (object type) \n",
    "#teste du level pour g et h\n",
    "\n",
    "for level in ['class']:\n",
    "    print(\"Levels for '{1}' : {0}\".format(level,df[level].unique()))"
   ]
  },
  {
   "cell_type": "code",
   "execution_count": 57,
   "metadata": {},
   "outputs": [],
   "source": [
    "#d'après le datacenter :\n",
    "# \"In the real data, the h class represents the majority of the events.\"\"\n",
    "#tenons compte de ces informations \n",
    "df['Class'] = df['class'].map({'g':1 , 'h' : 0})"
   ]
  },
  {
   "cell_type": "code",
   "execution_count": 58,
   "metadata": {},
   "outputs": [],
   "source": [
    "#\"g\" prendra pour valeur 1 et \"h\" prendra pour valeur 0: \n",
    "#On enregistre les étiquettes des classes que nous devons prédire\n",
    "#dans une differente variable .\n",
    "df_class = df['class'].values"
   ]
  },
  {
   "cell_type": "markdown",
   "metadata": {},
   "source": [
    "### Visualisation des données"
   ]
  },
  {
   "cell_type": "code",
   "execution_count": null,
   "metadata": {},
   "outputs": [],
   "source": [
    "#Ratio du plus grand pixel par rapport à fSize"
   ]
  },
  {
   "cell_type": "code",
   "execution_count": 100,
   "metadata": {},
   "outputs": [],
   "source": [
    "positifconc = df.fConc1>0.1"
   ]
  },
  {
   "cell_type": "code",
   "execution_count": 101,
   "metadata": {},
   "outputs": [],
   "source": [
    "negatifconc = df.fConc1<0.1"
   ]
  },
  {
   "cell_type": "code",
   "execution_count": 102,
   "metadata": {},
   "outputs": [],
   "source": [
    "nb_negatifconc = df[negatifconc][\"fConc1\"].count()\n",
    "nb_positifconc = df[positifconc][\"fConc1\"].count()"
   ]
  },
  {
   "cell_type": "code",
   "execution_count": 103,
   "metadata": {},
   "outputs": [
    {
     "data": {
      "text/plain": [
       "(2710, 16305)"
      ]
     },
     "execution_count": 103,
     "metadata": {},
     "output_type": "execute_result"
    }
   ],
   "source": [
    "nb_negatifconc, nb_positifconc "
   ]
  },
  {
   "cell_type": "code",
   "execution_count": 104,
   "metadata": {},
   "outputs": [],
   "source": [
    "DataBase = df"
   ]
  },
  {
   "cell_type": "code",
   "execution_count": 105,
   "metadata": {},
   "outputs": [],
   "source": [
    "DataBase[\"positif\"] = positifconc"
   ]
  },
  {
   "cell_type": "code",
   "execution_count": 106,
   "metadata": {},
   "outputs": [
    {
     "data": {
      "text/html": [
       "<div>\n",
       "<style scoped>\n",
       "    .dataframe tbody tr th:only-of-type {\n",
       "        vertical-align: middle;\n",
       "    }\n",
       "\n",
       "    .dataframe tbody tr th {\n",
       "        vertical-align: top;\n",
       "    }\n",
       "\n",
       "    .dataframe thead th {\n",
       "        text-align: right;\n",
       "    }\n",
       "</style>\n",
       "<table border=\"1\" class=\"dataframe\">\n",
       "  <thead>\n",
       "    <tr style=\"text-align: right;\">\n",
       "      <th></th>\n",
       "      <th>fLenght</th>\n",
       "      <th>fWidth</th>\n",
       "      <th>fSize</th>\n",
       "      <th>fConc1</th>\n",
       "      <th>fAsym</th>\n",
       "      <th>fM3Long</th>\n",
       "      <th>FM3Trans</th>\n",
       "      <th>fAlpha</th>\n",
       "      <th>fDist</th>\n",
       "      <th>class_g</th>\n",
       "      <th>class_h</th>\n",
       "      <th>positif</th>\n",
       "    </tr>\n",
       "  </thead>\n",
       "  <tbody>\n",
       "    <tr>\n",
       "      <th>0</th>\n",
       "      <td>27.5117</td>\n",
       "      <td>3.3595</td>\n",
       "      <td>0.2287</td>\n",
       "      <td>0.1199</td>\n",
       "      <td>-22.1561</td>\n",
       "      <td>47.4757</td>\n",
       "      <td>-17.2455</td>\n",
       "      <td>41.5633</td>\n",
       "      <td>237.3838</td>\n",
       "      <td>0</td>\n",
       "      <td>1</td>\n",
       "      <td>True</td>\n",
       "    </tr>\n",
       "    <tr>\n",
       "      <th>1</th>\n",
       "      <td>16.0074</td>\n",
       "      <td>2.9761</td>\n",
       "      <td>0.2779</td>\n",
       "      <td>0.1421</td>\n",
       "      <td>-13.6447</td>\n",
       "      <td>-26.4445</td>\n",
       "      <td>-9.6365</td>\n",
       "      <td>0.6344</td>\n",
       "      <td>242.5300</td>\n",
       "      <td>1</td>\n",
       "      <td>0</td>\n",
       "      <td>True</td>\n",
       "    </tr>\n",
       "    <tr>\n",
       "      <th>2</th>\n",
       "      <td>16.2969</td>\n",
       "      <td>2.5705</td>\n",
       "      <td>0.3199</td>\n",
       "      <td>0.1626</td>\n",
       "      <td>0.3502</td>\n",
       "      <td>-20.8862</td>\n",
       "      <td>13.1331</td>\n",
       "      <td>10.7703</td>\n",
       "      <td>255.2640</td>\n",
       "      <td>1</td>\n",
       "      <td>0</td>\n",
       "      <td>True</td>\n",
       "    </tr>\n",
       "    <tr>\n",
       "      <th>3</th>\n",
       "      <td>12.2928</td>\n",
       "      <td>2.3883</td>\n",
       "      <td>0.6094</td>\n",
       "      <td>0.4151</td>\n",
       "      <td>13.5323</td>\n",
       "      <td>18.1708</td>\n",
       "      <td>10.1494</td>\n",
       "      <td>89.1927</td>\n",
       "      <td>161.4280</td>\n",
       "      <td>1</td>\n",
       "      <td>0</td>\n",
       "      <td>True</td>\n",
       "    </tr>\n",
       "    <tr>\n",
       "      <th>4</th>\n",
       "      <td>46.8813</td>\n",
       "      <td>3.1054</td>\n",
       "      <td>0.2021</td>\n",
       "      <td>0.1317</td>\n",
       "      <td>-34.5090</td>\n",
       "      <td>-78.5341</td>\n",
       "      <td>-34.8005</td>\n",
       "      <td>49.9159</td>\n",
       "      <td>231.6019</td>\n",
       "      <td>0</td>\n",
       "      <td>1</td>\n",
       "      <td>True</td>\n",
       "    </tr>\n",
       "  </tbody>\n",
       "</table>\n",
       "</div>"
      ],
      "text/plain": [
       "   fLenght  fWidth   fSize  fConc1    fAsym  fM3Long  FM3Trans   fAlpha  \\\n",
       "0  27.5117  3.3595  0.2287  0.1199 -22.1561  47.4757  -17.2455  41.5633   \n",
       "1  16.0074  2.9761  0.2779  0.1421 -13.6447 -26.4445   -9.6365   0.6344   \n",
       "2  16.2969  2.5705  0.3199  0.1626   0.3502 -20.8862   13.1331  10.7703   \n",
       "3  12.2928  2.3883  0.6094  0.4151  13.5323  18.1708   10.1494  89.1927   \n",
       "4  46.8813  3.1054  0.2021  0.1317 -34.5090 -78.5341  -34.8005  49.9159   \n",
       "\n",
       "      fDist  class_g  class_h  positif  \n",
       "0  237.3838        0        1     True  \n",
       "1  242.5300        1        0     True  \n",
       "2  255.2640        1        0     True  \n",
       "3  161.4280        1        0     True  \n",
       "4  231.6019        0        1     True  "
      ]
     },
     "execution_count": 106,
     "metadata": {},
     "output_type": "execute_result"
    }
   ],
   "source": [
    "DataBase.head()"
   ]
  },
  {
   "cell_type": "code",
   "execution_count": 107,
   "metadata": {},
   "outputs": [
    {
     "data": {
      "text/plain": [
       "<matplotlib.axes._subplots.AxesSubplot at 0xe079320>"
      ]
     },
     "execution_count": 107,
     "metadata": {},
     "output_type": "execute_result"
    },
    {
     "data": {
      "image/png": "[encoded data removed]",
      "text/plain": [
       "<Figure size 432x288 with 1 Axes>"
      ]
     },
     "metadata": {
      "needs_background": "light"
     },
     "output_type": "display_data"
    }
   ],
   "source": [
    "%matplotlib inline\n",
    "DataBase.groupby([\"positif\"])[\"fConc1\"].mean().plot.bar(title=\"moyen\")"
   ]
  },
  {
   "cell_type": "markdown",
   "metadata": {},
   "source": [
    "### Modélisation"
   ]
  },
  {
   "cell_type": "code",
   "execution_count": 96,
   "metadata": {},
   "outputs": [],
   "source": [
    "#importation des librarie pour éffectuer la modelisation\n",
    "import matplotlib.pyplot as plt\n",
    "import pandas as pd\n",
    "from sklearn.model_selection import train_test_split\n",
    "from sklearn.ensemble        import RandomForestClassifier\n",
    "from sklearn.tree import DecisionTreeClassifier\n",
    "from sklearn.preprocessing import StandardScaler\n",
    "from sklearn.model_selection import train_test_split"
   ]
  },
  {
   "cell_type": "code",
   "execution_count": 97,
   "metadata": {},
   "outputs": [
    {
     "data": {
      "text/plain": [
       "(19020, 11)"
      ]
     },
     "execution_count": 97,
     "metadata": {},
     "output_type": "execute_result"
    }
   ],
   "source": [
    "#verification des données \n",
    "df = pd.get_dummies(df)\n",
    "df.shape"
   ]
  },
  {
   "cell_type": "code",
   "execution_count": 68,
   "metadata": {},
   "outputs": [],
   "source": [
    "#X = dataset.data\n",
    "#y = dataset.target\n",
    "X = df[df.columns[:1]]\n",
    "y = df[df.columns[-1]]"
   ]
  },
  {
   "cell_type": "code",
   "execution_count": 69,
   "metadata": {},
   "outputs": [],
   "source": [
    "X_train, X_test, y_train, y_test = train_test_split(X, y) "
   ]
  },
  {
   "cell_type": "markdown",
   "metadata": {},
   "source": [
    "#### Algorithme modele"
   ]
  },
  {
   "cell_type": "code",
   "execution_count": 112,
   "metadata": {},
   "outputs": [
    {
     "data": {
      "text/plain": [
       "0.7207150368033649"
      ]
     },
     "execution_count": 112,
     "metadata": {},
     "output_type": "execute_result"
    }
   ],
   "source": [
    "#le modele\n",
    "algo   = RandomForestClassifier(random_state = 42,\n",
    "                    n_jobs = -1,\n",
    "                    n_estimators=16,\n",
    "                    criterion='entropy',\n",
    "                    max_depth=16\n",
    "                    )\n",
    "#Le fit pour x_train et y_train\n",
    "modele = algo.fit(X_train, y_train)\n",
    "\n",
    "# La prédiction\n",
    "y_pred = model.predict(X_test)\n",
    "\n",
    "#Le resultat\n",
    "accuracy_score(y_test, y_pred)"
   ]
  },
  {
   "cell_type": "markdown",
   "metadata": {},
   "source": [
    "### Optimisation des hyperparamètres"
   ]
  },
  {
   "cell_type": "code",
   "execution_count": 84,
   "metadata": {},
   "outputs": [
    {
     "name": "stdout",
     "output_type": "stream",
     "text": [
      "0.94776119403 0.969696969697\n"
     ]
    }
   ],
   "source": [
    "from sklearn import grid_search\n",
    "parameters = {  'gamma' : [0.01, 0.1, 0.5]           ,\n",
    "                 \"probability\" : [True]}\n",
    "grid       = grid_search.GridSearchCV(algorithme, parameters, n_jobs=-1)\n",
    "grid.fit(X_train, y_train)\n",
    "print grid.best_score_, grid.best_estimator_.score(X_test, y_test)"
   ]
  },
  {
   "cell_type": "markdown",
   "metadata": {},
   "source": [
    "### Visualisation des performances"
   ]
  },
  {
   "cell_type": "code",
   "execution_count": 75,
   "metadata": {},
   "outputs": [
    {
     "name": "stdout",
     "output_type": "stream",
     "text": [
      "For model KNN accuracy = 0.7131440588853838\n"
     ]
    },
    {
     "data": {
      "image/png": "[encoded data removed]",
      "text/plain": [
       "<Figure size 576x576 with 1 Axes>"
      ]
     },
     "metadata": {
      "needs_background": "light"
     },
     "output_type": "display_data"
    },
    {
     "name": "stdout",
     "output_type": "stream",
     "text": [
      "For model NB accuracy = 0.7158780231335437\n"
     ]
    },
    {
     "data": {
      "image/png": "[encoded data removed]",
      "text/plain": [
       "<Figure size 432x288 with 1 Axes>"
      ]
     },
     "metadata": {
      "needs_background": "light"
     },
     "output_type": "display_data"
    },
    {
     "name": "stdout",
     "output_type": "stream",
     "text": [
      "For model RF50 accuracy = 0.6439537329127234\n"
     ]
    },
    {
     "data": {
      "image/png": "[encoded data removed]",
      "text/plain": [
       "<Figure size 432x288 with 1 Axes>"
      ]
     },
     "metadata": {
      "needs_background": "light"
     },
     "output_type": "display_data"
    },
    {
     "name": "stdout",
     "output_type": "stream",
     "text": [
      "For model AdaBoost accuracy = 0.7390115667718191\n"
     ]
    },
    {
     "data": {
      "image/png": "[encoded data removed]",
      "text/plain": [
       "<Figure size 432x288 with 1 Axes>"
      ]
     },
     "metadata": {
      "needs_background": "light"
     },
     "output_type": "display_data"
    },
    {
     "name": "stdout",
     "output_type": "stream",
     "text": [
      "For model RF5 accuracy = 0.6473186119873817\n"
     ]
    },
    {
     "data": {
      "image/png": "[encoded data removed]",
      "text/plain": [
       "<Figure size 432x288 with 1 Axes>"
      ]
     },
     "metadata": {
      "needs_background": "light"
     },
     "output_type": "display_data"
    }
   ],
   "source": [
    "from sklearn.preprocessing import StandardScaler\n",
    "from sklearn.neighbors import KNeighborsClassifier\n",
    "from sklearn.naive_bayes import GaussianNB\n",
    "from sklearn.linear_model import LogisticRegression\n",
    "from sklearn.ensemble import RandomForestClassifier,AdaBoostClassifier\n",
    "from sklearn.metrics import roc_curve, auc,fbeta_score, make_scorer,roc_auc_score\n",
    "from sklearn.ensemble import RandomForestClassifier\n",
    "from sklearn.datasets import make_classification\n",
    "from sklearn import svm, datasets\n",
    "from sklearn.metrics import roc_auc_score\n",
    "\n",
    "#Utilisation du classifier \n",
    "#Import des librarie\n",
    "\n",
    "classifiers = {'KNN': KNeighborsClassifier(n_neighbors=11),\n",
    "               'NB': GaussianNB(),\n",
    "               'RF5': RandomForestClassifier(n_estimators=5),\n",
    "               'RF50': RandomForestClassifier(n_estimators=50),\n",
    "               'AdaBoost': AdaBoostClassifier(),\n",
    "               }\n",
    "\n",
    "plt.figure(figsize=(8,8))\n",
    "\n",
    "#classifier methode\n",
    "#score teste X_test et y_test via y_pred\n",
    "n_classifiers = len(classifiers)\n",
    "for index, (name, clf) in enumerate(classifiers.iteritems()):\n",
    "    clf.fit(X_train, y_train)\n",
    "    y_pred = clf.predict_proba(X_test)\n",
    "    fpr, tpr, thresholds = roc_curve(y_test, y_pred[:, 1])\n",
    "    roc_auc = auc(fpr, tpr)\n",
    "    print 'For model', name, 'accuracy =', clf.score(X_test, y_test)\n",
    "\n",
    "    plt.plot(fpr, tpr, label='%s (area = %0.2f)' % (name, roc_auc))\n",
    "\n",
    "\n",
    "    plt.plot([0, 1], [0, 1], 'k--')\n",
    "    plt.xlim([0.0, 1.0])\n",
    "    plt.ylim([0.0, 1.0])\n",
    "    plt.xlabel('False Positive Rate')\n",
    "    plt.ylabel('True Positive Rate')\n",
    "    plt.title('ROC Curve')\n",
    "    plt.legend(loc=\"lower right\")\n",
    "    plt.show()\n"
   ]
  }
 ],
 "metadata": {
  "kernelspec": {
   "display_name": "Python 2",
   "language": "python",
   "name": "python2"
  },
  "language_info": {
   "codemirror_mode": {
    "name": "ipython",
    "version": 2
   },
   "file_extension": ".py",
   "mimetype": "text/x-python",
   "name": "python",
   "nbconvert_exporter": "python",
   "pygments_lexer": "ipython2",
   "version": "2.7.15"
  }
 },
 "nbformat": 4,
 "nbformat_minor": 2
}
